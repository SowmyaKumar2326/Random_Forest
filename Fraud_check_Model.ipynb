{
 "cells": [
  {
   "cell_type": "code",
   "execution_count": 27,
   "id": "61e93d2c",
   "metadata": {},
   "outputs": [
    {
     "name": "stdout",
     "output_type": "stream",
     "text": [
      "The accuracy of the Random Forest model is: 82.78 %\n"
     ]
    }
   ],
   "source": [
    "import pandas as pd\n",
    "import numpy as np\n",
    "from sklearn.ensemble import RandomForestClassifier\n",
    "from sklearn.preprocessing import StandardScaler\n",
    "from sklearn.model_selection import train_test_split\n",
    "from sklearn.metrics import accuracy_score\n",
    "\n",
    "def read_data():\n",
    "    try:\n",
    "        path = 'C:/Users/Sowmya Ganesh/Documents/Fraud_Check_modified_data.csv'\n",
    "        data = pd.read_csv(path)\n",
    "        return data\n",
    "    except Exception as e:\n",
    "        print(e)\n",
    "        \n",
    "def data_prep(data):\n",
    "    X=data[['Undergrad', 'Work.Experience', 'Urban', 'Divorced', 'Married', 'Single']]\n",
    "    y=data['Risky']\n",
    "    scaler = StandardScaler()\n",
    "    X_scaled = scaler.fit_transform(X)\n",
    "    X_train,X_test,y_train,y_test = train_test_split(X_scaled,y,test_size=0.3,shuffle=True)\n",
    "    return X_train,X_test,y_train,y_test\n",
    "\n",
    "def rand_forest_clf(X_train,y_train,X_test):\n",
    "    model=RandomForestClassifier(class_weight= None,criterion='entropy',min_samples_leaf=5, min_samples_split=5, n_estimators=100)\n",
    "    model_fit=model.fit(X_train,y_train)\n",
    "    pred = model_fit.predict(X_test)\n",
    "    return pred\n",
    "\n",
    "def rand_forest_accu(y_test,pred):\n",
    "    accu=accuracy_score(y_test,pred)\n",
    "    return accu\n",
    "    \n",
    "\n",
    "def main_function():\n",
    "    data = read_data()\n",
    "    X_train,X_test,y_train,y_test=data_prep(data)\n",
    "    pred = rand_forest_clf( X_train,y_train,X_test)\n",
    "    accu = rand_forest_accu(y_test,pred)\n",
    "    return accu\n",
    "\n",
    "results = main_function()\n",
    "print('The accuracy of the Random Forest model is:',round(results*100,2),'%')"
   ]
  }
 ],
 "metadata": {
  "kernelspec": {
   "display_name": "Python 3 (ipykernel)",
   "language": "python",
   "name": "python3"
  },
  "language_info": {
   "codemirror_mode": {
    "name": "ipython",
    "version": 3
   },
   "file_extension": ".py",
   "mimetype": "text/x-python",
   "name": "python",
   "nbconvert_exporter": "python",
   "pygments_lexer": "ipython3",
   "version": "3.11.5"
  }
 },
 "nbformat": 4,
 "nbformat_minor": 5
}
